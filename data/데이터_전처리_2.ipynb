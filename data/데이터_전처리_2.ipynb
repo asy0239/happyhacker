{
 "cells": [
  {
   "cell_type": "code",
   "execution_count": 2,
   "metadata": {},
   "outputs": [],
   "source": [
    "import pandas as pd\n",
    "import numpy as np\n",
    "import sys\n",
    "\n"
   ]
  },
  {
   "cell_type": "code",
   "execution_count": 3,
   "metadata": {},
   "outputs": [],
   "source": [
    "df = pd.read_csv('네이버맛집_이미지추가.csv', header='infer', engine='python', encoding='utf-8', sep=',')"
   ]
  },
  {
   "cell_type": "code",
   "execution_count": 68,
   "metadata": {},
   "outputs": [],
   "source": [
    "df = pd.read_csv('네이버맛집_전처리.csv', header='infer', engine='python', encoding='cp949', sep=',')"
   ]
  },
  {
   "cell_type": "code",
   "execution_count": 73,
   "metadata": {},
   "outputs": [
    {
     "data": {
      "text/plain": [
       "27"
      ]
     },
     "execution_count": 73,
     "metadata": {},
     "output_type": "execute_result"
    }
   ],
   "source": [
    "int(df.review[194])"
   ]
  },
  {
   "cell_type": "code",
   "execution_count": 63,
   "metadata": {},
   "outputs": [],
   "source": [
    "df.review = str(df.review)"
   ]
  },
  {
   "cell_type": "code",
   "execution_count": 74,
   "metadata": {},
   "outputs": [
    {
     "name": "stderr",
     "output_type": "stream",
     "text": [
      "C:\\ProgramData\\Anaconda3\\lib\\site-packages\\ipykernel_launcher.py:5: SettingWithCopyWarning: \n",
      "A value is trying to be set on a copy of a slice from a DataFrame\n",
      "\n",
      "See the caveats in the documentation: http://pandas.pydata.org/pandas-docs/stable/indexing.html#indexing-view-versus-copy\n",
      "  \"\"\"\n"
     ]
    }
   ],
   "source": [
    "for i , review in enumerate(df.review):\n",
    "    try:\n",
    "        int(df.review[i])\n",
    "    except:\n",
    "        df.review[i] = 0"
   ]
  },
  {
   "cell_type": "code",
   "execution_count": 75,
   "metadata": {},
   "outputs": [
    {
     "data": {
      "text/plain": [
       "0"
      ]
     },
     "execution_count": 75,
     "metadata": {},
     "output_type": "execute_result"
    }
   ],
   "source": [
    "df.review[196]"
   ]
  },
  {
   "cell_type": "code",
   "execution_count": 76,
   "metadata": {},
   "outputs": [
    {
     "data": {
      "text/plain": [
       "0        3591\n",
       "1        2927\n",
       "2       10527\n",
       "3          72\n",
       "4        3047\n",
       "5        4875\n",
       "6         226\n",
       "7           7\n",
       "8        3457\n",
       "9        2181\n",
       "10       3177\n",
       "11         36\n",
       "12        971\n",
       "13        210\n",
       "14       1177\n",
       "15        151\n",
       "16       3591\n",
       "17        106\n",
       "18        172\n",
       "19       1341\n",
       "20        321\n",
       "21        777\n",
       "22        542\n",
       "23       1561\n",
       "24        176\n",
       "25        304\n",
       "26       2185\n",
       "27       1045\n",
       "28        622\n",
       "29       2967\n",
       "        ...  \n",
       "4965        2\n",
       "4966       16\n",
       "4967      252\n",
       "4968      643\n",
       "4969       31\n",
       "4970       26\n",
       "4971       81\n",
       "4972        9\n",
       "4973       71\n",
       "4974       27\n",
       "4975       25\n",
       "4976       28\n",
       "4977      541\n",
       "4978        4\n",
       "4979        8\n",
       "4980      711\n",
       "4981      106\n",
       "4982     1095\n",
       "4983       65\n",
       "4984     1637\n",
       "4985      181\n",
       "4986     4525\n",
       "4987       81\n",
       "4988       19\n",
       "4989      202\n",
       "4990      205\n",
       "4991      133\n",
       "4992       51\n",
       "4993       10\n",
       "4994      103\n",
       "Name: review, Length: 4995, dtype: object"
      ]
     },
     "execution_count": 76,
     "metadata": {},
     "output_type": "execute_result"
    }
   ],
   "source": [
    "df.review"
   ]
  },
  {
   "cell_type": "code",
   "execution_count": 77,
   "metadata": {},
   "outputs": [],
   "source": [
    "df.to_csv(\"네이버맛집_전처리_2.csv\", index=False, encoding='utf-8-sig')"
   ]
  },
  {
   "cell_type": "code",
   "execution_count": null,
   "metadata": {},
   "outputs": [],
   "source": []
  }
 ],
 "metadata": {
  "kernelspec": {
   "display_name": "Python 3",
   "language": "python",
   "name": "python3"
  },
  "language_info": {
   "codemirror_mode": {
    "name": "ipython",
    "version": 3
   },
   "file_extension": ".py",
   "mimetype": "text/x-python",
   "name": "python",
   "nbconvert_exporter": "python",
   "pygments_lexer": "ipython3",
   "version": "3.7.1"
  }
 },
 "nbformat": 4,
 "nbformat_minor": 2
}
